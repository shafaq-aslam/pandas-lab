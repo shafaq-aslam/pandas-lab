{
 "cells": [
  {
   "cell_type": "markdown",
   "id": "1efd601c-ab76-4e8f-bb1a-82d03f1c5564",
   "metadata": {},
   "source": [
    "# Plotting Graphs on Series"
   ]
  },
  {
   "cell_type": "code",
   "execution_count": null,
   "id": "4c5dba15-1819-4b9e-a3ba-fdb7772af7b8",
   "metadata": {},
   "outputs": [],
   "source": []
  }
 ],
 "metadata": {
  "kernelspec": {
   "display_name": "Python [conda env:base] *",
   "language": "python",
   "name": "conda-base-py"
  },
  "language_info": {
   "codemirror_mode": {
    "name": "ipython",
    "version": 3
   },
   "file_extension": ".py",
   "mimetype": "text/x-python",
   "name": "python",
   "nbconvert_exporter": "python",
   "pygments_lexer": "ipython3",
   "version": "3.13.5"
  }
 },
 "nbformat": 4,
 "nbformat_minor": 5
}
