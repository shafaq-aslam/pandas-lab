{
 "cells": [
  {
   "cell_type": "markdown",
   "id": "2580123d-62e4-498f-b704-e8e020c75c51",
   "metadata": {},
   "source": [
    "# Series Maths Methods and Indexing"
   ]
  },
  {
   "cell_type": "code",
   "execution_count": 1,
   "id": "39561052-8eb7-4faf-9184-550145e28029",
   "metadata": {},
   "outputs": [],
   "source": [
    "import numpy as np\n",
    "import pandas as pd"
   ]
  },
  {
   "cell_type": "code",
   "execution_count": 2,
   "id": "1c1d6b4c-8ccb-464d-a095-82e83387c71e",
   "metadata": {},
   "outputs": [
    {
     "data": {
      "text/plain": [
       "match_no\n",
       "1       1\n",
       "2      23\n",
       "3      13\n",
       "4      12\n",
       "5       1\n",
       "       ..\n",
       "211     0\n",
       "212    20\n",
       "213    73\n",
       "214    25\n",
       "215     7\n",
       "Name: runs, Length: 215, dtype: int64"
      ]
     },
     "execution_count": 2,
     "metadata": {},
     "output_type": "execute_result"
    }
   ],
   "source": [
    "match_runs = pd.read_csv(r'C:\\Users\\HP\\Pandas\\kohli_match_run.csv', index_col = 'match_no').squeeze(True)\n",
    "match_runs"
   ]
  },
  {
   "cell_type": "code",
   "execution_count": 3,
   "id": "b8cfbeb1-3878-4ca6-824d-5109c81490aa",
   "metadata": {},
   "outputs": [
    {
     "data": {
      "text/plain": [
       "np.int64(215)"
      ]
     },
     "execution_count": 3,
     "metadata": {},
     "output_type": "execute_result"
    }
   ],
   "source": [
    "# count ---> don't count missing values\n",
    "match_runs.count()"
   ]
  },
  {
   "cell_type": "code",
   "execution_count": 4,
   "id": "9422319e-b7f8-46ff-ba67-c79516b0a376",
   "metadata": {},
   "outputs": [
    {
     "data": {
      "text/plain": [
       "np.int64(6634)"
      ]
     },
     "execution_count": 4,
     "metadata": {},
     "output_type": "execute_result"
    }
   ],
   "source": [
    "# sum\n",
    "match_runs.sum()"
   ]
  },
  {
   "cell_type": "code",
   "execution_count": 5,
   "id": "d4ab0622-ff84-402f-a868-70e473329146",
   "metadata": {},
   "outputs": [
    {
     "data": {
      "text/plain": [
       "np.int64(0)"
      ]
     },
     "execution_count": 5,
     "metadata": {},
     "output_type": "execute_result"
    }
   ],
   "source": [
    "# product\n",
    "match_runs.product()"
   ]
  },
  {
   "cell_type": "code",
   "execution_count": 7,
   "id": "f5fd6748-90cd-4648-bb53-c2311a50e541",
   "metadata": {},
   "outputs": [
    {
     "data": {
      "text/plain": [
       "np.float64(30.855813953488372)"
      ]
     },
     "execution_count": 7,
     "metadata": {},
     "output_type": "execute_result"
    }
   ],
   "source": [
    "# mean\n",
    "match_runs.mean()"
   ]
  },
  {
   "cell_type": "code",
   "execution_count": 8,
   "id": "2dded3bd-05c6-41a2-94ec-dba33dbf15ca",
   "metadata": {},
   "outputs": [
    {
     "data": {
      "text/plain": [
       "24.0"
      ]
     },
     "execution_count": 8,
     "metadata": {},
     "output_type": "execute_result"
    }
   ],
   "source": [
    "# median\n",
    "match_runs.median()"
   ]
  },
  {
   "cell_type": "code",
   "execution_count": 10,
   "id": "066bb453-e26a-45a0-90bc-48f512bd3c5c",
   "metadata": {},
   "outputs": [
    {
     "data": {
      "text/plain": [
       "movie\n",
       "Uri: The Surgical Strike                   Vicky Kaushal\n",
       "Battalion 609                                Vicky Ahuja\n",
       "The Accidental Prime Minister (film)         Anupam Kher\n",
       "Why Cheat India                            Emraan Hashmi\n",
       "Evening Shadows                         Mona Ambegaonkar\n",
       "                                              ...       \n",
       "Hum Tumhare Hain Sanam                    Shah Rukh Khan\n",
       "Aankhen (2002 film)                     Amitabh Bachchan\n",
       "Saathiya (film)                             Vivek Oberoi\n",
       "Company (film)                                Ajay Devgn\n",
       "Awara Paagal Deewana                        Akshay Kumar\n",
       "Name: lead, Length: 1500, dtype: object"
      ]
     },
     "execution_count": 10,
     "metadata": {},
     "output_type": "execute_result"
    }
   ],
   "source": [
    "bw_movies = pd.read_csv(r'C:\\Users\\HP\\Pandas\\bollywood.csv', index_col = 'movie').squeeze(True)\n",
    "bw_movies"
   ]
  },
  {
   "cell_type": "code",
   "execution_count": 11,
   "id": "cc1fc638-0c31-49f1-99dc-afb870b6f745",
   "metadata": {},
   "outputs": [
    {
     "data": {
      "text/plain": [
       "0    Akshay Kumar\n",
       "Name: lead, dtype: object"
      ]
     },
     "execution_count": 11,
     "metadata": {},
     "output_type": "execute_result"
    }
   ],
   "source": [
    "# mode\n",
    "bw_movies.mode()"
   ]
  },
  {
   "cell_type": "code",
   "execution_count": 12,
   "id": "3e0fd6f4-97b6-474d-9584-ad7e382bca61",
   "metadata": {},
   "outputs": [
    {
     "data": {
      "text/plain": [
       "0       48\n",
       "1       57\n",
       "2       40\n",
       "3       43\n",
       "4       44\n",
       "      ... \n",
       "360    231\n",
       "361    226\n",
       "362    155\n",
       "363    144\n",
       "364    172\n",
       "Name: Subscribers gained, Length: 365, dtype: int64"
      ]
     },
     "execution_count": 12,
     "metadata": {},
     "output_type": "execute_result"
    }
   ],
   "source": [
    "subs = pd.read_csv(r'C:\\Users\\HP\\Pandas\\subs.csv').squeeze(True)\n",
    "subs"
   ]
  },
  {
   "cell_type": "code",
   "execution_count": 13,
   "id": "e8c3fe26-2c65-4d10-9713-54af795a4196",
   "metadata": {},
   "outputs": [
    {
     "data": {
      "text/plain": [
       "62.67502303725269"
      ]
     },
     "execution_count": 13,
     "metadata": {},
     "output_type": "execute_result"
    }
   ],
   "source": [
    "# standard deviation\n",
    "subs.std()"
   ]
  },
  {
   "cell_type": "code",
   "execution_count": 14,
   "id": "f5750b08-d66e-454e-8bb3-52edf7d8cae0",
   "metadata": {},
   "outputs": [
    {
     "data": {
      "text/plain": [
       "3928.1585127201556"
      ]
     },
     "execution_count": 14,
     "metadata": {},
     "output_type": "execute_result"
    }
   ],
   "source": [
    "# variance\n",
    "subs.var()"
   ]
  },
  {
   "cell_type": "code",
   "execution_count": 15,
   "id": "3eab574c-b316-438e-a23c-7f0e0443e7a0",
   "metadata": {},
   "outputs": [
    {
     "data": {
      "text/plain": [
       "688.0024777222344"
      ]
     },
     "execution_count": 15,
     "metadata": {},
     "output_type": "execute_result"
    }
   ],
   "source": [
    "match_runs.var()"
   ]
  },
  {
   "cell_type": "code",
   "execution_count": 16,
   "id": "0890665b-3f13-4102-a690-6c3f5df27562",
   "metadata": {},
   "outputs": [
    {
     "name": "stdout",
     "output_type": "stream",
     "text": [
      "Minimum subscribers: 33\n",
      "Maximum subscribers: 396\n"
     ]
    }
   ],
   "source": [
    "# min/max\n",
    "print(f\"Minimum subscribers: {subs.min()}\")\n",
    "print(f\"Maximum subscribers: {subs.max()}\")"
   ]
  },
  {
   "cell_type": "code",
   "execution_count": 18,
   "id": "7a586967-39bf-4110-9a33-f3465bc99f91",
   "metadata": {},
   "outputs": [
    {
     "name": "stdout",
     "output_type": "stream",
     "text": [
      "Minimum runs: 0\n",
      "Maximum runs: 113\n"
     ]
    }
   ],
   "source": [
    "print(f\"Minimum runs: {match_runs.min()}\")\n",
    "print(f\"Maximum runs: {match_runs.max()}\")"
   ]
  },
  {
   "cell_type": "code",
   "execution_count": 19,
   "id": "f97e04dd-ee22-4e50-a4b2-908bde0ed715",
   "metadata": {},
   "outputs": [
    {
     "data": {
      "text/plain": [
       "count    365.000000\n",
       "mean     135.643836\n",
       "std       62.675023\n",
       "min       33.000000\n",
       "25%       88.000000\n",
       "50%      123.000000\n",
       "75%      177.000000\n",
       "max      396.000000\n",
       "Name: Subscribers gained, dtype: float64"
      ]
     },
     "execution_count": 19,
     "metadata": {},
     "output_type": "execute_result"
    }
   ],
   "source": [
    "# describe ---> will provide the summary of any dataset\n",
    "subs.describe()"
   ]
  },
  {
   "cell_type": "code",
   "execution_count": 20,
   "id": "ce9aa569-2792-4628-abce-3be10588f755",
   "metadata": {},
   "outputs": [
    {
     "data": {
      "text/plain": [
       "count    215.000000\n",
       "mean      30.855814\n",
       "std       26.229801\n",
       "min        0.000000\n",
       "25%        9.000000\n",
       "50%       24.000000\n",
       "75%       48.000000\n",
       "max      113.000000\n",
       "Name: runs, dtype: float64"
      ]
     },
     "execution_count": 20,
     "metadata": {},
     "output_type": "execute_result"
    }
   ],
   "source": [
    "match_runs.describe()"
   ]
  },
  {
   "cell_type": "code",
   "execution_count": 21,
   "id": "31af2800-1f42-4091-a157-eae12bed6660",
   "metadata": {},
   "outputs": [
    {
     "data": {
      "text/plain": [
       "count             1500\n",
       "unique             566\n",
       "top       Akshay Kumar\n",
       "freq                48\n",
       "Name: lead, dtype: object"
      ]
     },
     "execution_count": 21,
     "metadata": {},
     "output_type": "execute_result"
    }
   ],
   "source": [
    " bw_movies.describe()"
   ]
  },
  {
   "cell_type": "code",
   "execution_count": null,
   "id": "72148a1d-6066-410b-8676-e756317f1200",
   "metadata": {},
   "outputs": [],
   "source": []
  }
 ],
 "metadata": {
  "kernelspec": {
   "display_name": "Python [conda env:base] *",
   "language": "python",
   "name": "conda-base-py"
  },
  "language_info": {
   "codemirror_mode": {
    "name": "ipython",
    "version": 3
   },
   "file_extension": ".py",
   "mimetype": "text/x-python",
   "name": "python",
   "nbconvert_exporter": "python",
   "pygments_lexer": "ipython3",
   "version": "3.13.5"
  }
 },
 "nbformat": 4,
 "nbformat_minor": 5
}
