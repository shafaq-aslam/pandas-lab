{
 "cells": [
  {
   "cell_type": "markdown",
   "id": "2580123d-62e4-498f-b704-e8e020c75c51",
   "metadata": {},
   "source": [
    "# Series Maths Methods and Indexing"
   ]
  },
  {
   "cell_type": "code",
   "execution_count": 1,
   "id": "39561052-8eb7-4faf-9184-550145e28029",
   "metadata": {},
   "outputs": [],
   "source": [
    "import numpy as np\n",
    "import pandas as pd"
   ]
  },
  {
   "cell_type": "code",
   "execution_count": 10,
   "id": "1c1d6b4c-8ccb-464d-a095-82e83387c71e",
   "metadata": {},
   "outputs": [
    {
     "data": {
      "text/plain": [
       "match_no\n",
       "1       1\n",
       "2      23\n",
       "3      13\n",
       "4      12\n",
       "5       1\n",
       "       ..\n",
       "211     0\n",
       "212    20\n",
       "213    73\n",
       "214    25\n",
       "215     7\n",
       "Name: runs, Length: 215, dtype: int64"
      ]
     },
     "execution_count": 10,
     "metadata": {},
     "output_type": "execute_result"
    }
   ],
   "source": [
    "match_runs = pd.read_csv(r'C:\\Users\\HP\\Pandas\\kohli_match_run.csv', index_col = 'match_no').squeeze(True)\n",
    "match_runs"
   ]
  },
  {
   "cell_type": "code",
   "execution_count": 8,
   "id": "b8cfbeb1-3878-4ca6-824d-5109c81490aa",
   "metadata": {},
   "outputs": [
    {
     "data": {
      "text/plain": [
       "np.int64(215)"
      ]
     },
     "execution_count": 8,
     "metadata": {},
     "output_type": "execute_result"
    }
   ],
   "source": [
    "# count ---> don't count missing values\n",
    "match_runs.count()"
   ]
  },
  {
   "cell_type": "code",
   "execution_count": 12,
   "id": "9422319e-b7f8-46ff-ba67-c79516b0a376",
   "metadata": {},
   "outputs": [
    {
     "data": {
      "text/plain": [
       "np.int64(6634)"
      ]
     },
     "execution_count": 12,
     "metadata": {},
     "output_type": "execute_result"
    }
   ],
   "source": [
    "# sum\n",
    "match_runs.sum()"
   ]
  },
  {
   "cell_type": "code",
   "execution_count": 13,
   "id": "d4ab0622-ff84-402f-a868-70e473329146",
   "metadata": {},
   "outputs": [
    {
     "data": {
      "text/plain": [
       "np.int64(0)"
      ]
     },
     "execution_count": 13,
     "metadata": {},
     "output_type": "execute_result"
    }
   ],
   "source": [
    "# product\n",
    "match_runs.product()"
   ]
  },
  {
   "cell_type": "code",
   "execution_count": null,
   "id": "f5fd6748-90cd-4648-bb53-c2311a50e541",
   "metadata": {},
   "outputs": [],
   "source": [
    "# mean\n",
    "mat"
   ]
  }
 ],
 "metadata": {
  "kernelspec": {
   "display_name": "Python [conda env:base] *",
   "language": "python",
   "name": "conda-base-py"
  },
  "language_info": {
   "codemirror_mode": {
    "name": "ipython",
    "version": 3
   },
   "file_extension": ".py",
   "mimetype": "text/x-python",
   "name": "python",
   "nbconvert_exporter": "python",
   "pygments_lexer": "ipython3",
   "version": "3.13.5"
  }
 },
 "nbformat": 4,
 "nbformat_minor": 5
}
