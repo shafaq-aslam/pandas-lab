{
 "cells": [
  {
   "cell_type": "markdown",
   "id": "cf00c34c-158a-42e5-bb7a-5582c0e1cf57",
   "metadata": {},
   "source": [
    "# Series Using read_CSV"
   ]
  },
  {
   "cell_type": "code",
   "execution_count": 7,
   "id": "fc9d0713-b3a0-4550-9da2-ae90022194a9",
   "metadata": {},
   "outputs": [],
   "source": [
    "import numpy as np\n",
    "import pandas as pd"
   ]
  },
  {
   "cell_type": "code",
   "execution_count": 9,
   "id": "b429bf94-b2c4-416b-b303-c458eb3f2930",
   "metadata": {},
   "outputs": [
    {
     "data": {
      "text/plain": [
       "0       48\n",
       "1       57\n",
       "2       40\n",
       "3       43\n",
       "4       44\n",
       "      ... \n",
       "360    231\n",
       "361    226\n",
       "362    155\n",
       "363    144\n",
       "364    172\n",
       "Name: Subscribers gained, Length: 365, dtype: int64"
      ]
     },
     "execution_count": 9,
     "metadata": {},
     "output_type": "execute_result"
    }
   ],
   "source": [
    "# with one column\n",
    "subs = pd.read_csv(r'C:\\Users\\HP\\Pandas\\subs.csv').squeeze(True)\n",
    "subs"
   ]
  },
  {
   "cell_type": "code",
   "execution_count": null,
   "id": "5166ee33-cf76-47d5-9013-43a822bdc602",
   "metadata": {},
   "outputs": [],
   "source": [
    "# with two columns\n"
   ]
  }
 ],
 "metadata": {
  "kernelspec": {
   "display_name": "Python [conda env:base] *",
   "language": "python",
   "name": "conda-base-py"
  },
  "language_info": {
   "codemirror_mode": {
    "name": "ipython",
    "version": 3
   },
   "file_extension": ".py",
   "mimetype": "text/x-python",
   "name": "python",
   "nbconvert_exporter": "python",
   "pygments_lexer": "ipython3",
   "version": "3.13.5"
  }
 },
 "nbformat": 4,
 "nbformat_minor": 5
}
