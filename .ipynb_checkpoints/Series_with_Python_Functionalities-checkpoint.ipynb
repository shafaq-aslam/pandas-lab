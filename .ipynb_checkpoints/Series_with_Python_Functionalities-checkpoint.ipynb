{
 "cells": [
  {
   "cell_type": "markdown",
   "id": "8f76ec54-844b-45a6-ac0c-12cd2cfaaa6b",
   "metadata": {},
   "source": [
    "# Series With Python Functionalities"
   ]
  },
  {
   "cell_type": "code",
   "execution_count": 1,
   "id": "8a109ca6-d755-4e1c-81ed-a556b7e27c49",
   "metadata": {},
   "outputs": [],
   "source": [
    "import numpy as np\n",
    "import pandas as pd"
   ]
  },
  {
   "cell_type": "code",
   "execution_count": 2,
   "id": "260cb8b4-fdd6-47ca-81dd-2dd84f483d70",
   "metadata": {},
   "outputs": [
    {
     "data": {
      "text/plain": [
       "0       48\n",
       "1       57\n",
       "2       40\n",
       "3       43\n",
       "4       44\n",
       "      ... \n",
       "360    231\n",
       "361    226\n",
       "362    155\n",
       "363    144\n",
       "364    172\n",
       "Name: Subscribers gained, Length: 365, dtype: int64"
      ]
     },
     "execution_count": 2,
     "metadata": {},
     "output_type": "execute_result"
    }
   ],
   "source": [
    "subs = pd.read_csv(r'C:\\Users\\HP\\Pandas\\subscribers.csv').squeeze(True)\n",
    "subs"
   ]
  },
  {
   "cell_type": "code",
   "execution_count": 15,
   "id": "025c2108-b420-4a29-931e-3863f6014487",
   "metadata": {},
   "outputs": [
    {
     "data": {
      "text/plain": [
       "movie\n",
       "Uri: The Surgical Strike                   Vicky Kaushal\n",
       "Battalion 609                                Vicky Ahuja\n",
       "The Accidental Prime Minister (film)         Anupam Kher\n",
       "Why Cheat India                            Emraan Hashmi\n",
       "Evening Shadows                         Mona Ambegaonkar\n",
       "                                              ...       \n",
       "Hum Tumhare Hain Sanam                    Shah Rukh Khan\n",
       "Aankhen (2002 film)                     Amitabh Bachchan\n",
       "Saathiya (film)                             Vivek Oberoi\n",
       "Company (film)                                Ajay Devgn\n",
       "Awara Paagal Deewana                        Akshay Kumar\n",
       "Name: lead, Length: 1500, dtype: object"
      ]
     },
     "execution_count": 15,
     "metadata": {},
     "output_type": "execute_result"
    }
   ],
   "source": [
    "bw_movies = pd.read_csv(r'C:\\Users\\HP\\Pandas\\bollywood.csv', index_col = 'movie').squeeze(True)\n",
    "bw_movies"
   ]
  },
  {
   "cell_type": "code",
   "execution_count": 9,
   "id": "64d5721a-9a8e-4ec6-9845-56751a4a1e5d",
   "metadata": {},
   "outputs": [
    {
     "name": "stdout",
     "output_type": "stream",
     "text": [
      "33\n"
     ]
    }
   ],
   "source": [
    "# len()\n",
    "# print(len(subs)) # ---> 365\n",
    "\n",
    "# type()\n",
    "print(type(subs)) # ---> pandas.core.series.Series\n",
    "\n",
    "# dir()\n",
    "print(dir(subs)) # ---> will return you all the attributes and methods in Series class.\n",
    "\n",
    "# sorted()\n",
    "print(sorted(subs)) # ---> return output in list (sorted)\n",
    "\n",
    "# max()\n",
    "print(max(subs)) # ---> 396\n",
    "\n",
    "# min()\n",
    "print(min(subs)) # ---> 33"
   ]
  },
  {
   "cell_type": "code",
   "execution_count": 10,
   "id": "be58c5fd-b70b-470c-9c84-2c8d5e8fa00a",
   "metadata": {},
   "outputs": [
    {
     "name": "stdout",
     "output_type": "stream",
     "text": [
      "Geography    65\n",
      "History      55\n",
      "Computer     85\n",
      "Math         90\n",
      "Urdu         95\n",
      "English      99\n",
      "Name: Student's Marks, dtype: int64\n"
     ]
    }
   ],
   "source": [
    "marks = {\n",
    "    'Geography' : 65,\n",
    "    'History' : 55,\n",
    "    'Computer' : 85,\n",
    "    'Math' : 90,\n",
    "    'Urdu' : 95,\n",
    "    'English' : 99\n",
    "}\n",
    "\n",
    "marks_series = pd.Series(marks, name= \"Student's Marks\")\n",
    "print(marks_series)"
   ]
  },
  {
   "cell_type": "code",
   "execution_count": 11,
   "id": "51dbf012-5218-46ff-9471-90b654e0ac8b",
   "metadata": {},
   "outputs": [
    {
     "data": {
      "text/plain": [
       "[65, 55, 85, 90, 95, 99]"
      ]
     },
     "execution_count": 11,
     "metadata": {},
     "output_type": "execute_result"
    }
   ],
   "source": [
    "# type conversion\n",
    "list(marks_series)"
   ]
  },
  {
   "cell_type": "code",
   "execution_count": 14,
   "id": "251ccafd-de32-4915-8eaf-e69f7d05dafa",
   "metadata": {},
   "outputs": [
    {
     "name": "stdout",
     "output_type": "stream",
     "text": [
      "207\n"
     ]
    }
   ],
   "source": [
    "# membership operator\n",
    "231 in subs # ---> it works on index"
   ]
  },
  {
   "cell_type": "code",
   "execution_count": 16,
   "id": "a621500d-ae49-4a8c-89c1-1d7b02565752",
   "metadata": {},
   "outputs": [
    {
     "data": {
      "text/plain": [
       "True"
      ]
     },
     "execution_count": 16,
     "metadata": {},
     "output_type": "execute_result"
    }
   ],
   "source": [
    "'The Accidental Prime Minister (film)' in bw_movies"
   ]
  },
  {
   "cell_type": "code",
   "execution_count": null,
   "id": "4e2f5814-d584-47a1-ba7e-ff6b10e8293e",
   "metadata": {},
   "outputs": [],
   "source": []
  }
 ],
 "metadata": {
  "kernelspec": {
   "display_name": "Python [conda env:base] *",
   "language": "python",
   "name": "conda-base-py"
  },
  "language_info": {
   "codemirror_mode": {
    "name": "ipython",
    "version": 3
   },
   "file_extension": ".py",
   "mimetype": "text/x-python",
   "name": "python",
   "nbconvert_exporter": "python",
   "pygments_lexer": "ipython3",
   "version": "3.13.5"
  }
 },
 "nbformat": 4,
 "nbformat_minor": 5
}
