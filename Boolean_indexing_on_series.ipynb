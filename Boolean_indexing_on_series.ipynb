{
 "cells": [
  {
   "cell_type": "markdown",
   "id": "5d166216-a67a-43e9-b579-842e74ca6590",
   "metadata": {},
   "source": [
    "# Boolean Indexing on Series"
   ]
  },
  {
   "cell_type": "code",
   "execution_count": 1,
   "id": "131506bd-fb51-4b4a-bc71-6074c9521437",
   "metadata": {},
   "outputs": [],
   "source": [
    "import pandas as pd\n",
    "import numpy as np"
   ]
  },
  {
   "cell_type": "code",
   "execution_count": 2,
   "id": "5f57e434-1834-47a7-968a-3c86e3d3c199",
   "metadata": {},
   "outputs": [
    {
     "data": {
      "text/plain": [
       "match_no\n",
       "1       1\n",
       "2      23\n",
       "3      13\n",
       "4      12\n",
       "5       1\n",
       "       ..\n",
       "211     0\n",
       "212    20\n",
       "213    73\n",
       "214    25\n",
       "215     7\n",
       "Name: runs, Length: 215, dtype: int64"
      ]
     },
     "execution_count": 2,
     "metadata": {},
     "output_type": "execute_result"
    }
   ],
   "source": [
    "match_runs = pd.read_csv(r'C:\\Users\\HP\\Pandas\\kohli_match_run.csv', index_col = 'match_no').squeeze(True)\n",
    "match_runs"
   ]
  },
  {
   "cell_type": "code",
   "execution_count": 15,
   "id": "a6e73601-20c9-4e8d-8a56-77fe6d441e98",
   "metadata": {},
   "outputs": [
    {
     "data": {
      "text/plain": [
       "movie\n",
       "Uri: The Surgical Strike                   Vicky Kaushal\n",
       "Battalion 609                                Vicky Ahuja\n",
       "The Accidental Prime Minister (film)         Anupam Kher\n",
       "Why Cheat India                            Emraan Hashmi\n",
       "Evening Shadows                         Mona Ambegaonkar\n",
       "                                              ...       \n",
       "Hum Tumhare Hain Sanam                    Shah Rukh Khan\n",
       "Aankhen (2002 film)                     Amitabh Bachchan\n",
       "Saathiya (film)                             Vivek Oberoi\n",
       "Company (film)                                Ajay Devgn\n",
       "Awara Paagal Deewana                        Akshay Kumar\n",
       "Name: lead, Length: 1500, dtype: object"
      ]
     },
     "execution_count": 15,
     "metadata": {},
     "output_type": "execute_result"
    }
   ],
   "source": [
    "bw_movies = pd.read_csv(r'C:\\Users\\HP\\Pandas\\bollywood.csv', index_col = 'movie').squeeze(True)\n",
    "bw_movies"
   ]
  },
  {
   "cell_type": "code",
   "execution_count": 3,
   "id": "95d29271-2211-45db-8f30-7f3ab201b886",
   "metadata": {},
   "outputs": [
    {
     "data": {
      "text/plain": [
       "match_no\n",
       "15      50\n",
       "34      58\n",
       "41      71\n",
       "44      56\n",
       "45      67\n",
       "52      70\n",
       "57      57\n",
       "68      73\n",
       "71      51\n",
       "73      58\n",
       "74      65\n",
       "80      57\n",
       "81      93\n",
       "82      99\n",
       "85      56\n",
       "97      67\n",
       "99      73\n",
       "103     51\n",
       "104     62\n",
       "110     82\n",
       "116     75\n",
       "117     79\n",
       "119     80\n",
       "120    100\n",
       "122     52\n",
       "123    108\n",
       "126    109\n",
       "127     75\n",
       "128    113\n",
       "129     54\n",
       "131     54\n",
       "132     62\n",
       "134     64\n",
       "137     55\n",
       "141     58\n",
       "144     57\n",
       "145     92\n",
       "148     68\n",
       "152     70\n",
       "160     84\n",
       "162     67\n",
       "164    100\n",
       "175     72\n",
       "178     90\n",
       "182     50\n",
       "188     72\n",
       "197     51\n",
       "198     53\n",
       "209     58\n",
       "213     73\n",
       "Name: runs, dtype: int64"
      ]
     },
     "execution_count": 3,
     "metadata": {},
     "output_type": "execute_result"
    }
   ],
   "source": [
    "# Find no of 50's and 100's scored by a player\n",
    "match_runs[match_runs >= 50]"
   ]
  },
  {
   "cell_type": "code",
   "execution_count": 5,
   "id": "415fb2be-4a59-4f28-a474-9979b1294d30",
   "metadata": {},
   "outputs": [
    {
     "data": {
      "text/plain": [
       "match_no\n",
       "15     50\n",
       "182    50\n",
       "Name: runs, dtype: int64"
      ]
     },
     "execution_count": 5,
     "metadata": {},
     "output_type": "execute_result"
    }
   ],
   "source": [
    "match_runs[match_runs == 50]"
   ]
  },
  {
   "cell_type": "code",
   "execution_count": 7,
   "id": "3e1b32b0-018c-45fd-a5dc-1d10695f129c",
   "metadata": {},
   "outputs": [
    {
     "data": {
      "text/plain": [
       "match_no\n",
       "120    100\n",
       "164    100\n",
       "Name: runs, dtype: int64"
      ]
     },
     "execution_count": 7,
     "metadata": {},
     "output_type": "execute_result"
    }
   ],
   "source": [
    "match_runs[match_runs == 100]"
   ]
  },
  {
   "cell_type": "code",
   "execution_count": 8,
   "id": "e3abd26b-a203-4095-9884-b448fd8dde75",
   "metadata": {},
   "outputs": [
    {
     "data": {
      "text/plain": [
       "50"
      ]
     },
     "execution_count": 8,
     "metadata": {},
     "output_type": "execute_result"
    }
   ],
   "source": [
    "match_runs[match_runs >= 50].size"
   ]
  },
  {
   "cell_type": "code",
   "execution_count": 10,
   "id": "41620863-5975-49df-869c-2936aa32ed21",
   "metadata": {},
   "outputs": [
    {
     "data": {
      "text/plain": [
       "9"
      ]
     },
     "execution_count": 10,
     "metadata": {},
     "output_type": "execute_result"
    }
   ],
   "source": [
    "# Find number of ducks\n",
    "match_runs[match_runs == 0].size"
   ]
  },
  {
   "cell_type": "code",
   "execution_count": 11,
   "id": "44eec355-35bb-45f9-96fb-1639b2037ae5",
   "metadata": {},
   "outputs": [
    {
     "data": {
      "text/plain": [
       "match_no\n",
       "1      False\n",
       "2      False\n",
       "3      False\n",
       "4      False\n",
       "5      False\n",
       "       ...  \n",
       "211    False\n",
       "212    False\n",
       "213    False\n",
       "214    False\n",
       "215    False\n",
       "Name: runs, Length: 215, dtype: bool"
      ]
     },
     "execution_count": 11,
     "metadata": {},
     "output_type": "execute_result"
    }
   ],
   "source": [
    "# Count numbers of matches when kohli made runs more than 100 \n",
    "match_runs > 100"
   ]
  },
  {
   "cell_type": "code",
   "execution_count": 12,
   "id": "9e54d4fc-067e-4ea2-ae77-df1dfa21e97a",
   "metadata": {},
   "outputs": [
    {
     "data": {
      "text/plain": [
       "match_no\n",
       "123    108\n",
       "126    109\n",
       "128    113\n",
       "Name: runs, dtype: int64"
      ]
     },
     "execution_count": 12,
     "metadata": {},
     "output_type": "execute_result"
    }
   ],
   "source": [
    "match_runs[match_runs > 100]"
   ]
  },
  {
   "cell_type": "code",
   "execution_count": 14,
   "id": "ab69164e-0dc4-47ce-a8ac-c7c363168f02",
   "metadata": {},
   "outputs": [
    {
     "data": {
      "text/plain": [
       "3"
      ]
     },
     "execution_count": 14,
     "metadata": {},
     "output_type": "execute_result"
    }
   ],
   "source": [
    "match_runs[match_runs > 100].size"
   ]
  },
  {
   "cell_type": "code",
   "execution_count": 18,
   "id": "29f40827-1f55-464b-baf2-b15be10e6727",
   "metadata": {},
   "outputs": [
    {
     "data": {
      "text/plain": [
       "lead\n",
       "Akshay Kumar        48\n",
       "Amitabh Bachchan    45\n",
       "Ajay Devgn          38\n",
       "Salman Khan         31\n",
       "Sanjay Dutt         26\n",
       "Shah Rukh Khan      22\n",
       "Emraan Hashmi       21\n",
       "Name: count, dtype: int64"
      ]
     },
     "execution_count": 18,
     "metadata": {},
     "output_type": "execute_result"
    }
   ],
   "source": [
    "# find actors who have done more than 20 movies\n",
    "num_movies = bw_movies.value_counts()\n",
    "num_movies[num_movies > 20]"
   ]
  },
  {
   "cell_type": "code",
   "execution_count": null,
   "id": "32784565-b40e-4adc-bf83-a753662f7b00",
   "metadata": {},
   "outputs": [],
   "source": []
  }
 ],
 "metadata": {
  "kernelspec": {
   "display_name": "Python [conda env:base] *",
   "language": "python",
   "name": "conda-base-py"
  },
  "language_info": {
   "codemirror_mode": {
    "name": "ipython",
    "version": 3
   },
   "file_extension": ".py",
   "mimetype": "text/x-python",
   "name": "python",
   "nbconvert_exporter": "python",
   "pygments_lexer": "ipython3",
   "version": "3.13.5"
  }
 },
 "nbformat": 4,
 "nbformat_minor": 5
}
