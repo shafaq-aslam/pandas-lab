{
 "cells": [
  {
   "cell_type": "markdown",
   "id": "f3187685-9536-4750-b2be-c48020a43011",
   "metadata": {},
   "source": [
    "# Pandas Series"
   ]
  },
  {
   "cell_type": "code",
   "execution_count": 1,
   "id": "8841f134-09b9-41fd-a136-52a4b77360d5",
   "metadata": {},
   "outputs": [],
   "source": [
    "import numpy as np\n",
    "import pandas as pd"
   ]
  },
  {
   "cell_type": "markdown",
   "id": "b17f323c-aa0d-4ad4-821f-9b95ae292af7",
   "metadata": {},
   "source": [
    "## Series From Lists"
   ]
  },
  {
   "cell_type": "code",
   "execution_count": 2,
   "id": "f7e7c20f-2a0a-45f8-b027-b511f3ffa136",
   "metadata": {},
   "outputs": [
    {
     "data": {
      "text/plain": [
       "0       Pakistan\n",
       "1          China\n",
       "2          India\n",
       "3          Saudi\n",
       "4          Nepal\n",
       "5    Afghanistan\n",
       "dtype: object"
      ]
     },
     "execution_count": 2,
     "metadata": {},
     "output_type": "execute_result"
    }
   ],
   "source": [
    "# String\n",
    "country = ['Pakistan', 'China', 'India', 'Saudi', 'Nepal', 'Afghanistan']\n",
    "pd.Series(country)"
   ]
  },
  {
   "cell_type": "code",
   "execution_count": 3,
   "id": "61789e45-b3bd-442c-82ea-37d5d1054fd4",
   "metadata": {},
   "outputs": [
    {
     "data": {
      "text/plain": [
       "0    15\n",
       "1    25\n",
       "2    20\n",
       "3    35\n",
       "4    10\n",
       "5    55\n",
       "6    35\n",
       "7    40\n",
       "8     5\n",
       "dtype: int64"
      ]
     },
     "execution_count": 3,
     "metadata": {},
     "output_type": "execute_result"
    }
   ],
   "source": [
    "# Integers\n",
    "nums = [15, 25, 20, 35, 10, 55, 35, 40, 5]\n",
    "pd.Series(nums)"
   ]
  },
  {
   "cell_type": "code",
   "execution_count": 4,
   "id": "c5170687-eaa3-453d-9474-45770a888871",
   "metadata": {},
   "outputs": [
    {
     "data": {
      "text/plain": [
       "Geography    65\n",
       "History      55\n",
       "Computer     85\n",
       "Math         90\n",
       "Urdu         95\n",
       "English      99\n",
       "Science      82\n",
       "Islamiat     74\n",
       "dtype: int64"
      ]
     },
     "execution_count": 4,
     "metadata": {},
     "output_type": "execute_result"
    }
   ],
   "source": [
    "# Custom Index\n",
    "marks = [65, 55, 85, 90, 95, 99, 82, 74]\n",
    "subjects = ['Geography', 'History', 'Computer', 'Math', 'Urdu', 'English', 'Science', 'Islamiat']\n",
    "pd.Series(marks, index=subjects)"
   ]
  },
  {
   "cell_type": "code",
   "execution_count": 5,
   "id": "3436538f-2708-4bea-a699-a9203f8f4c75",
   "metadata": {},
   "outputs": [
    {
     "data": {
      "text/plain": [
       "Geography    65\n",
       "History      55\n",
       "Computer     85\n",
       "Math         90\n",
       "Urdu         95\n",
       "English      99\n",
       "Science      82\n",
       "Islamiat     74\n",
       "Name: Student's Marks, dtype: int64"
      ]
     },
     "execution_count": 5,
     "metadata": {},
     "output_type": "execute_result"
    }
   ],
   "source": [
    "# Setting a name\n",
    "marks=pd.Series(marks, index=subjects, name=\"Student's Marks\")\n",
    "marks"
   ]
  },
  {
   "cell_type": "markdown",
   "id": "867e8b19-55a1-4f1f-aa39-cb0b5050199f",
   "metadata": {},
   "source": [
    "## Series From Dict"
   ]
  },
  {
   "cell_type": "code",
   "execution_count": 7,
   "id": "5f4482b1-c9e4-4874-8782-0ece7cecd3fd",
   "metadata": {},
   "outputs": [
    {
     "name": "stdout",
     "output_type": "stream",
     "text": [
      "Geography    65\n",
      "History      55\n",
      "Computer     85\n",
      "Math         90\n",
      "Urdu         95\n",
      "English      99\n",
      "Name: Student's Marks, dtype: int64\n"
     ]
    }
   ],
   "source": [
    "marks = {\n",
    "    'Geography' : 65,\n",
    "    'History' : 55,\n",
    "    'Computer' : 85,\n",
    "    'Math' : 90,\n",
    "    'Urdu' : 95,\n",
    "    'English' : 99\n",
    "}\n",
    "\n",
    "marks_series = pd.Series(marks, name= \"Student's Marks\")\n",
    "print(marks_series)"
   ]
  },
  {
   "cell_type": "markdown",
   "id": "aa64c839-843d-4e84-ba41-8acbfe32ef66",
   "metadata": {},
   "source": [
    "## Series Attributes"
   ]
  },
  {
   "cell_type": "code",
   "execution_count": null,
   "id": "a81649a7-3a6b-4922-a2a7-0e2789c221dc",
   "metadata": {},
   "outputs": [],
   "source": [
    "# size"
   ]
  },
  {
   "cell_type": "code",
   "execution_count": null,
   "id": "7bbb4516-0cb4-4bf5-bcb9-1e43b8e286f3",
   "metadata": {},
   "outputs": [],
   "source": [
    "# dtype"
   ]
  },
  {
   "cell_type": "code",
   "execution_count": null,
   "id": "76cda0cf-f38b-48a0-be50-407adb82ef7e",
   "metadata": {},
   "outputs": [],
   "source": [
    "# name"
   ]
  },
  {
   "cell_type": "code",
   "execution_count": null,
   "id": "5aba11a0-1070-4a08-a979-75c6a70f6fa3",
   "metadata": {},
   "outputs": [],
   "source": [
    "# is_unique"
   ]
  },
  {
   "cell_type": "code",
   "execution_count": null,
   "id": "94b734b1-e894-43f5-ada7-9d99eb9b821b",
   "metadata": {},
   "outputs": [],
   "source": [
    "# index"
   ]
  },
  {
   "cell_type": "code",
   "execution_count": null,
   "id": "32be6709-fbc0-4c7b-bbc6-794941297655",
   "metadata": {},
   "outputs": [],
   "source": [
    "# values"
   ]
  }
 ],
 "metadata": {
  "kernelspec": {
   "display_name": "Python [conda env:base] *",
   "language": "python",
   "name": "conda-base-py"
  },
  "language_info": {
   "codemirror_mode": {
    "name": "ipython",
    "version": 3
   },
   "file_extension": ".py",
   "mimetype": "text/x-python",
   "name": "python",
   "nbconvert_exporter": "python",
   "pygments_lexer": "ipython3",
   "version": "3.13.5"
  }
 },
 "nbformat": 4,
 "nbformat_minor": 5
}
