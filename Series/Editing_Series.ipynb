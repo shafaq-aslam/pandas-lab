{
 "cells": [
  {
   "cell_type": "markdown",
   "id": "f0beeb1b-9158-4d49-af1e-f36ada190737",
   "metadata": {},
   "source": [
    "# Editing Series"
   ]
  },
  {
   "cell_type": "code",
   "execution_count": 1,
   "id": "2309465b-71fe-4237-914b-a651f23cbb2b",
   "metadata": {},
   "outputs": [],
   "source": [
    "import numpy as np\n",
    "import pandas as pd"
   ]
  },
  {
   "cell_type": "code",
   "execution_count": 3,
   "id": "32948cb2-6b35-49ba-b8b8-31ff1d66621d",
   "metadata": {},
   "outputs": [
    {
     "data": {
      "text/plain": [
       "movie\n",
       "Uri: The Surgical Strike                   Vicky Kaushal\n",
       "Battalion 609                                Vicky Ahuja\n",
       "The Accidental Prime Minister (film)         Anupam Kher\n",
       "Why Cheat India                            Emraan Hashmi\n",
       "Evening Shadows                         Mona Ambegaonkar\n",
       "                                              ...       \n",
       "Hum Tumhare Hain Sanam                    Shah Rukh Khan\n",
       "Aankhen (2002 film)                     Amitabh Bachchan\n",
       "Saathiya (film)                             Vivek Oberoi\n",
       "Company (film)                                Ajay Devgn\n",
       "Awara Paagal Deewana                        Akshay Kumar\n",
       "Name: lead, Length: 1500, dtype: object"
      ]
     },
     "execution_count": 3,
     "metadata": {},
     "output_type": "execute_result"
    }
   ],
   "source": [
    "bw_movies = pd.read_csv(r'C:\\Users\\HP\\Pandas\\bollywood.csv', index_col = 'movie').squeeze(True)\n",
    "bw_movies"
   ]
  },
  {
   "cell_type": "code",
   "execution_count": 4,
   "id": "8d038514-caa6-4f03-b3c8-1beaa923f142",
   "metadata": {},
   "outputs": [
    {
     "name": "stdout",
     "output_type": "stream",
     "text": [
      "Geography    65\n",
      "History      55\n",
      "Computer     85\n",
      "Math         90\n",
      "Urdu         95\n",
      "English      99\n",
      "Name: Student's Marks, dtype: int64\n"
     ]
    }
   ],
   "source": [
    "marks = {\n",
    "    'Geography' : 65,\n",
    "    'History' : 55,\n",
    "    'Computer' : 85,\n",
    "    'Math' : 90,\n",
    "    'Urdu' : 95,\n",
    "    'English' : 99\n",
    "}\n",
    "\n",
    "marks_series = pd.Series(marks, name= \"Student's Marks\")\n",
    "print(marks_series)"
   ]
  },
  {
   "cell_type": "code",
   "execution_count": 9,
   "id": "78a20528-bb4a-4044-b3a0-1185a23dec6d",
   "metadata": {},
   "outputs": [
    {
     "name": "stderr",
     "output_type": "stream",
     "text": [
      "C:\\Users\\HP\\AppData\\Local\\Temp\\ipykernel_10256\\3290859077.py:2: FutureWarning: Series.__setitem__ treating keys as positions is deprecated. In a future version, integer keys will always be treated as labels (consistent with DataFrame behavior). To set a value by position, use `ser.iloc[pos] = value`\n",
      "  marks_series[0] = 75\n"
     ]
    },
    {
     "data": {
      "text/plain": [
       "Geography    75\n",
       "History      55\n",
       "Computer     85\n",
       "Math         90\n",
       "Urdu         95\n",
       "English      99\n",
       "Name: Student's Marks, dtype: int64"
      ]
     },
     "execution_count": 9,
     "metadata": {},
     "output_type": "execute_result"
    }
   ],
   "source": [
    "# using indexing\n",
    "marks_series[0] = 75\n",
    "marks_series"
   ]
  },
  {
   "cell_type": "code",
   "execution_count": 10,
   "id": "b8377155-dc44-4166-b53f-a83316a2ec4d",
   "metadata": {},
   "outputs": [
    {
     "name": "stderr",
     "output_type": "stream",
     "text": [
      "C:\\Users\\HP\\AppData\\Local\\Temp\\ipykernel_10256\\1427412654.py:1: FutureWarning: Series.__setitem__ treating keys as positions is deprecated. In a future version, integer keys will always be treated as labels (consistent with DataFrame behavior). To set a value by position, use `ser.iloc[pos] = value`\n",
      "  marks_series[1] = 65\n"
     ]
    },
    {
     "data": {
      "text/plain": [
       "Geography    75\n",
       "History      65\n",
       "Computer     85\n",
       "Math         90\n",
       "Urdu         95\n",
       "English      99\n",
       "Name: Student's Marks, dtype: int64"
      ]
     },
     "execution_count": 10,
     "metadata": {},
     "output_type": "execute_result"
    }
   ],
   "source": [
    "marks_series[1] = 65\n",
    "marks_series"
   ]
  },
  {
   "cell_type": "code",
   "execution_count": 12,
   "id": "a396299f-ee0d-4c51-bba4-7a49a4281742",
   "metadata": {},
   "outputs": [
    {
     "data": {
      "text/plain": [
       "Geography    75\n",
       "History      65\n",
       "Computer     85\n",
       "Math         90\n",
       "Urdu         95\n",
       "English      99\n",
       "Islamiat     95\n",
       "Name: Student's Marks, dtype: int64"
      ]
     },
     "execution_count": 12,
     "metadata": {},
     "output_type": "execute_result"
    }
   ],
   "source": [
    "# what if an index does not exist\n",
    "marks_series['Islamiat'] = 95\n",
    "marks_series"
   ]
  },
  {
   "cell_type": "code",
   "execution_count": 13,
   "id": "9cc961a4-7635-44b8-a785-646a20bbca64",
   "metadata": {},
   "outputs": [
    {
     "data": {
      "text/plain": [
       "Geography    75\n",
       "History      65\n",
       "Computer     80\n",
       "Math         95\n",
       "Urdu         95\n",
       "English      99\n",
       "Islamiat     95\n",
       "Name: Student's Marks, dtype: int64"
      ]
     },
     "execution_count": 13,
     "metadata": {},
     "output_type": "execute_result"
    }
   ],
   "source": [
    "# slicing\n",
    "marks_series[2:4]=[80, 95]\n",
    "marks_series"
   ]
  },
  {
   "cell_type": "code",
   "execution_count": 14,
   "id": "58cf0772-5d46-4dc3-82b7-aeed6b0ee3be",
   "metadata": {},
   "outputs": [
    {
     "data": {
      "text/plain": [
       "movie\n",
       "Uri: The Surgical Strike                   Vicky Kaushal\n",
       "Battalion 609                                Vicky Ahuja\n",
       "The Accidental Prime Minister (film)         Anupam Kher\n",
       "Why Cheat India                            Emraan Hashmi\n",
       "Evening Shadows                         Mona Ambegaonkar\n",
       "                                              ...       \n",
       "Hum Tumhare Hain Sanam                    Shah Rukh Khan\n",
       "Aankhen (2002 film)                     Amitabh Bachchan\n",
       "Saathiya (film)                             Vivek Oberoi\n",
       "Company (film)                                Ajay Devgn\n",
       "Awara Paagal Deewana                        Akshay Kumar\n",
       "Name: lead, Length: 1500, dtype: object"
      ]
     },
     "execution_count": 14,
     "metadata": {},
     "output_type": "execute_result"
    }
   ],
   "source": [
    "bw_movies"
   ]
  },
  {
   "cell_type": "code",
   "execution_count": 16,
   "id": "35ceac63-9337-43e8-bc2d-7c3941e610b2",
   "metadata": {},
   "outputs": [
    {
     "data": {
      "text/plain": [
       "movie\n",
       "Uri: The Surgical Strike                   Vicky Kaushal\n",
       "Battalion 609                                Vicky Ahuja\n",
       "The Accidental Prime Minister (film)         Anupam Kher\n",
       "Why Cheat India                            Emraan Hashmi\n",
       "Evening Shadows                         Mona Ambegaonkar\n",
       "                                              ...       \n",
       "Hum Tumhare Hain Sanam                             Arjun\n",
       "Aankhen (2002 film)                     Amitabh Bachchan\n",
       "Saathiya (film)                             Vivek Oberoi\n",
       "Company (film)                                Ajay Devgn\n",
       "Awara Paagal Deewana                        Akshay Kumar\n",
       "Name: lead, Length: 1500, dtype: object"
      ]
     },
     "execution_count": 16,
     "metadata": {},
     "output_type": "execute_result"
    }
   ],
   "source": [
    "# using index label\n",
    "bw_movies['Hum Tumhare Hain Sanam'] = 'Arjun'\n",
    "bw_movies"
   ]
  },
  {
   "cell_type": "code",
   "execution_count": 18,
   "id": "158d909c-2bc0-4816-a7c4-8e8d86635e88",
   "metadata": {},
   "outputs": [
    {
     "data": {
      "text/plain": [
       "0     15\n",
       "1     35\n",
       "2     75\n",
       "3     45\n",
       "4     50\n",
       "5     65\n",
       "6     80\n",
       "7      0\n",
       "8     40\n",
       "9     55\n",
       "10    60\n",
       "dtype: int64"
      ]
     },
     "execution_count": 18,
     "metadata": {},
     "output_type": "execute_result"
    }
   ],
   "source": [
    "# fancy indexing\n",
    "runs = pd.Series([15, 35, 85, 45, 50, 65, 75, 0, 25, 55, 60])\n",
    "runs[[2, 6, 8]] = [75, 80, 40]\n",
    "runs"
   ]
  }
 ],
 "metadata": {
  "kernelspec": {
   "display_name": "Python [conda env:base] *",
   "language": "python",
   "name": "conda-base-py"
  },
  "language_info": {
   "codemirror_mode": {
    "name": "ipython",
    "version": 3
   },
   "file_extension": ".py",
   "mimetype": "text/x-python",
   "name": "python",
   "nbconvert_exporter": "python",
   "pygments_lexer": "ipython3",
   "version": "3.13.5"
  }
 },
 "nbformat": 4,
 "nbformat_minor": 5
}
