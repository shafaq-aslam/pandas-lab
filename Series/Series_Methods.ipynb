{
 "cells": [
  {
   "cell_type": "markdown",
   "id": "4ffb094f-5719-48aa-903d-88b43eac2c08",
   "metadata": {},
   "source": [
    "# Series Methods"
   ]
  },
  {
   "cell_type": "code",
   "execution_count": 27,
   "id": "1f085f7d-2086-4d35-9e34-afaba8accdcb",
   "metadata": {},
   "outputs": [],
   "source": [
    "import pandas as pd\n",
    "import numpy as np"
   ]
  },
  {
   "cell_type": "code",
   "execution_count": 2,
   "id": "29c00e1d-19fd-4e27-96c0-6dcc3fb94c05",
   "metadata": {},
   "outputs": [
    {
     "data": {
      "text/plain": [
       "0       48\n",
       "1       57\n",
       "2       40\n",
       "3       43\n",
       "4       44\n",
       "      ... \n",
       "360    231\n",
       "361    226\n",
       "362    155\n",
       "363    144\n",
       "364    172\n",
       "Name: Subscribers gained, Length: 365, dtype: int64"
      ]
     },
     "execution_count": 2,
     "metadata": {},
     "output_type": "execute_result"
    }
   ],
   "source": [
    "subs = pd.read_csv(r'C:\\Users\\HP\\Pandas\\subscribers.csv').squeeze(True)\n",
    "subs"
   ]
  },
  {
   "cell_type": "code",
   "execution_count": 3,
   "id": "0c9ad3c6-defa-48a6-9d1f-6d78bda6f6d4",
   "metadata": {},
   "outputs": [
    {
     "data": {
      "text/plain": [
       "movie\n",
       "Uri: The Surgical Strike                   Vicky Kaushal\n",
       "Battalion 609                                Vicky Ahuja\n",
       "The Accidental Prime Minister (film)         Anupam Kher\n",
       "Why Cheat India                            Emraan Hashmi\n",
       "Evening Shadows                         Mona Ambegaonkar\n",
       "                                              ...       \n",
       "Hum Tumhare Hain Sanam                    Shah Rukh Khan\n",
       "Aankhen (2002 film)                     Amitabh Bachchan\n",
       "Saathiya (film)                             Vivek Oberoi\n",
       "Company (film)                                Ajay Devgn\n",
       "Awara Paagal Deewana                        Akshay Kumar\n",
       "Name: lead, Length: 1500, dtype: object"
      ]
     },
     "execution_count": 3,
     "metadata": {},
     "output_type": "execute_result"
    }
   ],
   "source": [
    "bw_movies = pd.read_csv(r'C:\\Users\\HP\\Pandas\\bollywood.csv', index_col = 'movie').squeeze(True)\n",
    "bw_movies"
   ]
  },
  {
   "cell_type": "code",
   "execution_count": 4,
   "id": "b514a526-ec43-4332-99e4-596fef78fb85",
   "metadata": {},
   "outputs": [
    {
     "data": {
      "text/plain": [
       "match_no\n",
       "1       1\n",
       "2      23\n",
       "3      13\n",
       "4      12\n",
       "5       1\n",
       "       ..\n",
       "211     0\n",
       "212    20\n",
       "213    73\n",
       "214    25\n",
       "215     7\n",
       "Name: runs, Length: 215, dtype: int64"
      ]
     },
     "execution_count": 4,
     "metadata": {},
     "output_type": "execute_result"
    }
   ],
   "source": [
    "match_runs = pd.read_csv(r'C:\\Users\\HP\\Pandas\\kohli_match_run.csv', index_col = 'match_no').squeeze(True)\n",
    "match_runs"
   ]
  },
  {
   "cell_type": "code",
   "execution_count": 8,
   "id": "5292ae05-87f9-44a9-8593-45cf46b1cfe0",
   "metadata": {},
   "outputs": [
    {
     "name": "stdout",
     "output_type": "stream",
     "text": [
      "Size of the data before changing the type: 3472\n",
      "Size of the data after changing the type: 2182\n"
     ]
    }
   ],
   "source": [
    "import sys\n",
    "\n",
    "print(f'Size of the data before changing the type: {sys.getsizeof(match_runs)}')\n",
    "\n",
    "# astype ---> change the type of your data\n",
    "print(f\"Size of the data after changing the type: {sys.getsizeof(match_runs.astype('int16'))}\")"
   ]
  },
  {
   "cell_type": "code",
   "execution_count": 9,
   "id": "fdeb8bad-b91a-48aa-9071-9cf93e087cae",
   "metadata": {},
   "outputs": [
    {
     "data": {
      "text/plain": [
       "match_no\n",
       "1      False\n",
       "2      False\n",
       "3      False\n",
       "4      False\n",
       "5      False\n",
       "       ...  \n",
       "211    False\n",
       "212    False\n",
       "213     True\n",
       "214    False\n",
       "215    False\n",
       "Name: runs, Length: 215, dtype: bool"
      ]
     },
     "execution_count": 9,
     "metadata": {},
     "output_type": "execute_result"
    }
   ],
   "source": [
    "# between ---> will return boolean series\n",
    "match_runs.between(50, 100)"
   ]
  },
  {
   "cell_type": "code",
   "execution_count": 10,
   "id": "bf1b665b-b2cd-4f70-b646-5198d0c4a6e8",
   "metadata": {},
   "outputs": [
    {
     "data": {
      "text/plain": [
       "match_no\n",
       "15      50\n",
       "34      58\n",
       "41      71\n",
       "44      56\n",
       "45      67\n",
       "52      70\n",
       "57      57\n",
       "68      73\n",
       "71      51\n",
       "73      58\n",
       "74      65\n",
       "80      57\n",
       "81      93\n",
       "82      99\n",
       "85      56\n",
       "97      67\n",
       "99      73\n",
       "103     51\n",
       "104     62\n",
       "110     82\n",
       "116     75\n",
       "117     79\n",
       "119     80\n",
       "120    100\n",
       "122     52\n",
       "127     75\n",
       "129     54\n",
       "131     54\n",
       "132     62\n",
       "134     64\n",
       "137     55\n",
       "141     58\n",
       "144     57\n",
       "145     92\n",
       "148     68\n",
       "152     70\n",
       "160     84\n",
       "162     67\n",
       "164    100\n",
       "175     72\n",
       "178     90\n",
       "182     50\n",
       "188     72\n",
       "197     51\n",
       "198     53\n",
       "209     58\n",
       "213     73\n",
       "Name: runs, dtype: int64"
      ]
     },
     "execution_count": 10,
     "metadata": {},
     "output_type": "execute_result"
    }
   ],
   "source": [
    "match_runs[match_runs.between(50, 100)]"
   ]
  },
  {
   "cell_type": "code",
   "execution_count": 11,
   "id": "0408bc36-ec61-49aa-bde8-7bb0708870c8",
   "metadata": {},
   "outputs": [
    {
     "data": {
      "text/plain": [
       "47"
      ]
     },
     "execution_count": 11,
     "metadata": {},
     "output_type": "execute_result"
    }
   ],
   "source": [
    "match_runs[match_runs.between(50, 100)].size"
   ]
  },
  {
   "cell_type": "code",
   "execution_count": 12,
   "id": "9dd790e2-36b5-4d96-a034-2dc0a8446c70",
   "metadata": {},
   "outputs": [
    {
     "data": {
      "text/plain": [
       "0      100\n",
       "1      100\n",
       "2      100\n",
       "3      100\n",
       "4      100\n",
       "      ... \n",
       "360    200\n",
       "361    200\n",
       "362    155\n",
       "363    144\n",
       "364    172\n",
       "Name: Subscribers gained, Length: 365, dtype: int64"
      ]
     },
     "execution_count": 12,
     "metadata": {},
     "output_type": "execute_result"
    }
   ],
   "source": [
    "# clip ---> values less than 100 will become 100, the values greater than 200 will become 200, and the values between 100 and 200 will remain unchange.\n",
    "subs.clip(100, 200)"
   ]
  },
  {
   "cell_type": "code",
   "execution_count": 17,
   "id": "ca0da813-07f4-412a-afa3-f82e1e3fd99a",
   "metadata": {},
   "outputs": [
    {
     "name": "stdout",
     "output_type": "stream",
     "text": [
      "Before drop:\n",
      "0     1\n",
      "1     2\n",
      "2     3\n",
      "3     4\n",
      "4     1\n",
      "5     1\n",
      "6     2\n",
      "7     5\n",
      "8     5\n",
      "9     4\n",
      "10    3\n",
      "11    8\n",
      "12    9\n",
      "13    6\n",
      "dtype: int64\n",
      "\n",
      "After drop:\n",
      "0     1\n",
      "1     2\n",
      "2     3\n",
      "3     4\n",
      "7     5\n",
      "11    8\n",
      "12    9\n",
      "13    6\n",
      "dtype: int64\n"
     ]
    }
   ],
   "source": [
    "# drop_duplicates\n",
    "temp = pd.Series([1, 2, 3, 4, 1, 1, 2, 5, 5, 4, 3, 8, 9, 6,])\n",
    "print(f'Before drop:\\n{temp}')\n",
    "print(f'\\nAfter drop:\\n{temp.drop_duplicates()}')"
   ]
  },
  {
   "cell_type": "code",
   "execution_count": 18,
   "id": "fe016fc6-bbfe-4044-941d-a2ee87b77b5f",
   "metadata": {},
   "outputs": [
    {
     "data": {
      "text/plain": [
       "5     1\n",
       "6     2\n",
       "8     5\n",
       "9     4\n",
       "10    3\n",
       "11    8\n",
       "12    9\n",
       "13    6\n",
       "dtype: int64"
      ]
     },
     "execution_count": 18,
     "metadata": {},
     "output_type": "execute_result"
    }
   ],
   "source": [
    "temp.drop_duplicates(keep='last') # ---> will remove last occurance"
   ]
  },
  {
   "cell_type": "code",
   "execution_count": 19,
   "id": "68444e50-39a1-4f69-b201-2f27d30edd8c",
   "metadata": {},
   "outputs": [
    {
     "data": {
      "text/plain": [
       "0     1\n",
       "1     2\n",
       "2     3\n",
       "3     4\n",
       "7     5\n",
       "11    8\n",
       "12    9\n",
       "13    6\n",
       "dtype: int64"
      ]
     },
     "execution_count": 19,
     "metadata": {},
     "output_type": "execute_result"
    }
   ],
   "source": [
    "temp.drop_duplicates(keep='first') # ---> will remove first occurance"
   ]
  },
  {
   "cell_type": "code",
   "execution_count": 21,
   "id": "2a263a54-81bd-4dce-ba06-b7c001f96cb9",
   "metadata": {},
   "outputs": [
    {
     "data": {
      "text/plain": [
       "0     False\n",
       "1     False\n",
       "2     False\n",
       "3     False\n",
       "4      True\n",
       "5      True\n",
       "6      True\n",
       "7     False\n",
       "8      True\n",
       "9      True\n",
       "10     True\n",
       "11    False\n",
       "12    False\n",
       "13    False\n",
       "dtype: bool"
      ]
     },
     "execution_count": 21,
     "metadata": {},
     "output_type": "execute_result"
    }
   ],
   "source": [
    "# duplicated\n",
    "temp.duplicated() # will return whether Series has duplicate values or not."
   ]
  },
  {
   "cell_type": "code",
   "execution_count": 22,
   "id": "4762b0c1-68bd-4ea1-852e-214fdd6a1b13",
   "metadata": {},
   "outputs": [
    {
     "data": {
      "text/plain": [
       "np.int64(6)"
      ]
     },
     "execution_count": 22,
     "metadata": {},
     "output_type": "execute_result"
    }
   ],
   "source": [
    "temp.duplicated().sum() # will return total number of duplicate values."
   ]
  },
  {
   "cell_type": "code",
   "execution_count": 24,
   "id": "e1ae0428-99be-4282-b213-5740d122034d",
   "metadata": {},
   "outputs": [
    {
     "data": {
      "text/plain": [
       "np.int64(934)"
      ]
     },
     "execution_count": 24,
     "metadata": {},
     "output_type": "execute_result"
    }
   ],
   "source": [
    "bw_movies.duplicated().sum()"
   ]
  },
  {
   "cell_type": "code",
   "execution_count": 25,
   "id": "cb74539a-b631-44b0-b10b-9344520d17d4",
   "metadata": {},
   "outputs": [
    {
     "data": {
      "text/plain": [
       "np.int64(185)"
      ]
     },
     "execution_count": 25,
     "metadata": {},
     "output_type": "execute_result"
    }
   ],
   "source": [
    "subs.duplicated().sum()"
   ]
  },
  {
   "cell_type": "code",
   "execution_count": 26,
   "id": "4ad0ee72-d77f-4b81-aff8-082eb24b5e22",
   "metadata": {},
   "outputs": [
    {
     "data": {
      "text/plain": [
       "np.int64(137)"
      ]
     },
     "execution_count": 26,
     "metadata": {},
     "output_type": "execute_result"
    }
   ],
   "source": [
    "match_runs.duplicated().sum()"
   ]
  },
  {
   "cell_type": "code",
   "execution_count": 28,
   "id": "0ee847c7-630e-459f-aab3-3327add6c16a",
   "metadata": {},
   "outputs": [
    {
     "data": {
      "text/plain": [
       "0     25.0\n",
       "1     15.0\n",
       "2     26.0\n",
       "3      NaN\n",
       "4      5.0\n",
       "5      9.0\n",
       "6     11.0\n",
       "7      NaN\n",
       "8      NaN\n",
       "9     20.0\n",
       "10    55.0\n",
       "11     NaN\n",
       "dtype: float64"
      ]
     },
     "execution_count": 28,
     "metadata": {},
     "output_type": "execute_result"
    }
   ],
   "source": [
    "temp_series = pd.Series([25, 15, 26, np.nan, 5, 9, 11, np.nan, np.nan, 20, 55, np.nan])\n",
    "temp_series"
   ]
  },
  {
   "cell_type": "code",
   "execution_count": 30,
   "id": "145eddfc-e00f-4bcb-9253-b24e2da4090f",
   "metadata": {},
   "outputs": [
    {
     "data": {
      "text/plain": [
       "12"
      ]
     },
     "execution_count": 30,
     "metadata": {},
     "output_type": "execute_result"
    }
   ],
   "source": [
    "temp_series.size # ---> it will return the size of data included null values"
   ]
  },
  {
   "cell_type": "code",
   "execution_count": 32,
   "id": "ca9eacb2-d803-4805-8464-35f1c1c03f00",
   "metadata": {},
   "outputs": [
    {
     "data": {
      "text/plain": [
       "np.int64(8)"
      ]
     },
     "execution_count": 32,
     "metadata": {},
     "output_type": "execute_result"
    }
   ],
   "source": [
    "temp_series.count() # ---> it will not count missing values"
   ]
  },
  {
   "cell_type": "code",
   "execution_count": 33,
   "id": "d1554ba9-e588-4a9d-affe-70f3489527b3",
   "metadata": {},
   "outputs": [
    {
     "data": {
      "text/plain": [
       "match_no\n",
       "1      False\n",
       "2      False\n",
       "3      False\n",
       "4      False\n",
       "5      False\n",
       "       ...  \n",
       "211    False\n",
       "212    False\n",
       "213    False\n",
       "214    False\n",
       "215    False\n",
       "Name: runs, Length: 215, dtype: bool"
      ]
     },
     "execution_count": 33,
     "metadata": {},
     "output_type": "execute_result"
    }
   ],
   "source": [
    "# isnull\n",
    "match_runs.isnull() # there are no missing values."
   ]
  },
  {
   "cell_type": "code",
   "execution_count": 34,
   "id": "16b48908-6dfd-406c-8aa3-01e30165b144",
   "metadata": {},
   "outputs": [
    {
     "data": {
      "text/plain": [
       "np.int64(0)"
      ]
     },
     "execution_count": 34,
     "metadata": {},
     "output_type": "execute_result"
    }
   ],
   "source": [
    "match_runs.isnull().sum()"
   ]
  },
  {
   "cell_type": "code",
   "execution_count": 36,
   "id": "d1f15a42-1103-4cc9-a8be-2c391a6c2861",
   "metadata": {},
   "outputs": [
    {
     "data": {
      "text/plain": [
       "np.int64(4)"
      ]
     },
     "execution_count": 36,
     "metadata": {},
     "output_type": "execute_result"
    }
   ],
   "source": [
    "temp_series.isnull().sum() # there are 4 missing values."
   ]
  },
  {
   "cell_type": "code",
   "execution_count": 37,
   "id": "4140f09a-c157-4a0b-8098-8fdbf5c510da",
   "metadata": {},
   "outputs": [
    {
     "data": {
      "text/plain": [
       "0     25.0\n",
       "1     15.0\n",
       "2     26.0\n",
       "4      5.0\n",
       "5      9.0\n",
       "6     11.0\n",
       "9     20.0\n",
       "10    55.0\n",
       "dtype: float64"
      ]
     },
     "execution_count": 37,
     "metadata": {},
     "output_type": "execute_result"
    }
   ],
   "source": [
    "# dropna ---> if you want to drop null values\n",
    "temp_series.dropna()"
   ]
  },
  {
   "cell_type": "code",
   "execution_count": 38,
   "id": "b3665b53-4ce4-4044-b6b5-260ad2d762a3",
   "metadata": {},
   "outputs": [
    {
     "data": {
      "text/plain": [
       "0     25.0\n",
       "1     15.0\n",
       "2     26.0\n",
       "3      0.0\n",
       "4      5.0\n",
       "5      9.0\n",
       "6     11.0\n",
       "7      0.0\n",
       "8      0.0\n",
       "9     20.0\n",
       "10    55.0\n",
       "11     0.0\n",
       "dtype: float64"
      ]
     },
     "execution_count": 38,
     "metadata": {},
     "output_type": "execute_result"
    }
   ],
   "source": [
    "# fillna ---> to replace the null values by a 0 or any logic\n",
    "temp_series.fillna(0)"
   ]
  },
  {
   "cell_type": "code",
   "execution_count": 39,
   "id": "e85396bf-4626-47dd-a642-7fb3d1f59a99",
   "metadata": {},
   "outputs": [
    {
     "data": {
      "text/plain": [
       "0     25.00\n",
       "1     15.00\n",
       "2     26.00\n",
       "3     20.75\n",
       "4      5.00\n",
       "5      9.00\n",
       "6     11.00\n",
       "7     20.75\n",
       "8     20.75\n",
       "9     20.00\n",
       "10    55.00\n",
       "11    20.75\n",
       "dtype: float64"
      ]
     },
     "execution_count": 39,
     "metadata": {},
     "output_type": "execute_result"
    }
   ],
   "source": [
    "temp_series.fillna(temp_series.mean())"
   ]
  },
  {
   "cell_type": "code",
   "execution_count": 41,
   "id": "939b43af-15d0-4fd8-ace4-d99691e909fd",
   "metadata": {},
   "outputs": [
    {
     "data": {
      "text/plain": [
       "match_no\n",
       "1      False\n",
       "2      False\n",
       "3      False\n",
       "4      False\n",
       "5      False\n",
       "       ...  \n",
       "211    False\n",
       "212    False\n",
       "213    False\n",
       "214    False\n",
       "215    False\n",
       "Name: runs, Length: 215, dtype: bool"
      ]
     },
     "execution_count": 41,
     "metadata": {},
     "output_type": "execute_result"
    }
   ],
   "source": [
    "# isin ---> to check multiple things at a time\n",
    "(match_runs == 49) | (match_runs == 99)"
   ]
  },
  {
   "cell_type": "code",
   "execution_count": 42,
   "id": "353497a4-fa28-4090-9a7f-8c204beee066",
   "metadata": {},
   "outputs": [
    {
     "data": {
      "text/plain": [
       "match_no\n",
       "82    99\n",
       "86    49\n",
       "Name: runs, dtype: int64"
      ]
     },
     "execution_count": 42,
     "metadata": {},
     "output_type": "execute_result"
    }
   ],
   "source": [
    "match_runs[(match_runs == 49) | (match_runs == 99)]"
   ]
  },
  {
   "cell_type": "code",
   "execution_count": 49,
   "id": "0e32dcaa-314e-4063-a05d-aff442f010f6",
   "metadata": {},
   "outputs": [
    {
     "data": {
      "text/plain": [
       "match_no\n",
       "82      99\n",
       "86      49\n",
       "120    100\n",
       "123    108\n",
       "137     55\n",
       "164    100\n",
       "Name: runs, dtype: int64"
      ]
     },
     "execution_count": 49,
     "metadata": {},
     "output_type": "execute_result"
    }
   ],
   "source": [
    "match_runs[match_runs.isin([49, 55, 99, 108, 100])]"
   ]
  },
  {
   "cell_type": "code",
   "execution_count": 51,
   "id": "900d064d-3b0d-46e3-a8ee-6d8bbc58bb43",
   "metadata": {},
   "outputs": [
    {
     "data": {
      "text/plain": [
       "match_no\n",
       "8       0\n",
       "15     50\n",
       "82     99\n",
       "86     49\n",
       "87      0\n",
       "91      0\n",
       "93      0\n",
       "130     0\n",
       "135     0\n",
       "137    55\n",
       "182    50\n",
       "206     0\n",
       "207     0\n",
       "211     0\n",
       "Name: runs, dtype: int64"
      ]
     },
     "execution_count": 51,
     "metadata": {},
     "output_type": "execute_result"
    }
   ],
   "source": [
    "match_runs[match_runs.isin([49, 55, 99, 0, 50])]"
   ]
  },
  {
   "cell_type": "code",
   "execution_count": 54,
   "id": "c6578f3e-c185-40b6-a144-7842383aa88a",
   "metadata": {},
   "outputs": [
    {
     "data": {
      "text/plain": [
       "movie\n",
       "Uri: The Surgical Strike                   Vicky Kaushal\n",
       "Battalion 609                                Vicky Ahuja\n",
       "The Accidental Prime Minister (film)         Anupam Kher\n",
       "Why Cheat India                            Emraan Hashmi\n",
       "Evening Shadows                         Mona Ambegaonkar\n",
       "                                              ...       \n",
       "Hum Tumhare Hain Sanam                    Shah Rukh Khan\n",
       "Aankhen (2002 film)                     Amitabh Bachchan\n",
       "Saathiya (film)                             Vivek Oberoi\n",
       "Company (film)                                Ajay Devgn\n",
       "Awara Paagal Deewana                        Akshay Kumar\n",
       "Name: lead, Length: 1500, dtype: object"
      ]
     },
     "execution_count": 54,
     "metadata": {},
     "output_type": "execute_result"
    }
   ],
   "source": [
    "# apply ---> helps you to apply custom logic on your series\n",
    "bw_movies # before apply"
   ]
  },
  {
   "cell_type": "code",
   "execution_count": 55,
   "id": "da50df26-1bd2-43a7-84f1-925e18f69c43",
   "metadata": {},
   "outputs": [
    {
     "data": {
      "text/plain": [
       "movie\n",
       "Uri: The Surgical Strike                  VICKY\n",
       "Battalion 609                             VICKY\n",
       "The Accidental Prime Minister (film)     ANUPAM\n",
       "Why Cheat India                          EMRAAN\n",
       "Evening Shadows                            MONA\n",
       "                                         ...   \n",
       "Hum Tumhare Hain Sanam                     SHAH\n",
       "Aankhen (2002 film)                     AMITABH\n",
       "Saathiya (film)                           VIVEK\n",
       "Company (film)                             AJAY\n",
       "Awara Paagal Deewana                     AKSHAY\n",
       "Name: lead, Length: 1500, dtype: object"
      ]
     },
     "execution_count": 55,
     "metadata": {},
     "output_type": "execute_result"
    }
   ],
   "source": [
    "bw_movies.apply(lambda x:x.split()[0].upper())"
   ]
  },
  {
   "cell_type": "code",
   "execution_count": 56,
   "id": "7569786a-067f-42c1-b9c1-05c5fbb5a0aa",
   "metadata": {},
   "outputs": [
    {
     "data": {
      "text/plain": [
       "0       Bad day\n",
       "1       Bad day\n",
       "2       Bad day\n",
       "3       Bad day\n",
       "4       Bad day\n",
       "         ...   \n",
       "360    Good day\n",
       "361    Good day\n",
       "362    Good day\n",
       "363    Good day\n",
       "364    Good day\n",
       "Name: Subscribers gained, Length: 365, dtype: object"
      ]
     },
     "execution_count": 56,
     "metadata": {},
     "output_type": "execute_result"
    }
   ],
   "source": [
    "subs.apply(lambda x:'Good day' if x > subs.mean() else 'Bad day')"
   ]
  },
  {
   "cell_type": "code",
   "execution_count": 57,
   "id": "a4ccc2f4-2a8b-4b02-9856-1d87a3b42fa4",
   "metadata": {},
   "outputs": [
    {
     "data": {
      "text/plain": [
       "match_no\n",
       "1       1\n",
       "2      23\n",
       "3      13\n",
       "4      12\n",
       "5       1\n",
       "       ..\n",
       "211     0\n",
       "212    20\n",
       "213    73\n",
       "214    25\n",
       "215     7\n",
       "Name: runs, Length: 215, dtype: int64"
      ]
     },
     "execution_count": 57,
     "metadata": {},
     "output_type": "execute_result"
    }
   ],
   "source": [
    "# copy ---> it helps you to do changes without chnaging original\n",
    "match_runs"
   ]
  },
  {
   "cell_type": "code",
   "execution_count": 59,
   "id": "74adfb8b-7550-4ce0-88f4-3a14c68feb91",
   "metadata": {},
   "outputs": [
    {
     "data": {
      "text/plain": [
       "match_no\n",
       "1     1\n",
       "2    23\n",
       "3    13\n",
       "4    12\n",
       "5     1\n",
       "Name: runs, dtype: int64"
      ]
     },
     "execution_count": 59,
     "metadata": {},
     "output_type": "execute_result"
    }
   ],
   "source": [
    "new_data = match_runs.head()\n",
    "new_data"
   ]
  },
  {
   "cell_type": "code",
   "execution_count": 62,
   "id": "8b84890c-bf7f-4424-9d3e-e9c61c468b2a",
   "metadata": {},
   "outputs": [
    {
     "data": {
      "text/plain": [
       "match_no\n",
       "1      100\n",
       "2       23\n",
       "3       13\n",
       "4       12\n",
       "5        1\n",
       "      ... \n",
       "211      0\n",
       "212     20\n",
       "213     73\n",
       "214     25\n",
       "215      7\n",
       "Name: runs, Length: 215, dtype: int64"
      ]
     },
     "execution_count": 62,
     "metadata": {},
     "output_type": "execute_result"
    }
   ],
   "source": [
    "new_data[1] = 100\n",
    "match_runs"
   ]
  },
  {
   "cell_type": "code",
   "execution_count": 65,
   "id": "f40a5715-884b-4568-ad7c-2cf3e5dff716",
   "metadata": {},
   "outputs": [
    {
     "data": {
      "text/plain": [
       "match_no\n",
       "1    50\n",
       "2    23\n",
       "3    13\n",
       "4    12\n",
       "5     1\n",
       "Name: runs, dtype: int64"
      ]
     },
     "execution_count": 65,
     "metadata": {},
     "output_type": "execute_result"
    }
   ],
   "source": [
    "new_data = match_runs.head().copy()\n",
    "new_data[1] = 50\n",
    "new_data"
   ]
  },
  {
   "cell_type": "code",
   "execution_count": 66,
   "id": "89a153d3-e06e-4e31-ab8b-ef1029f787e3",
   "metadata": {},
   "outputs": [
    {
     "data": {
      "text/plain": [
       "match_no\n",
       "1      100\n",
       "2       23\n",
       "3       13\n",
       "4       12\n",
       "5        1\n",
       "      ... \n",
       "211      0\n",
       "212     20\n",
       "213     73\n",
       "214     25\n",
       "215      7\n",
       "Name: runs, Length: 215, dtype: int64"
      ]
     },
     "execution_count": 66,
     "metadata": {},
     "output_type": "execute_result"
    }
   ],
   "source": [
    "match_runs"
   ]
  }
 ],
 "metadata": {
  "kernelspec": {
   "display_name": "Python [conda env:base] *",
   "language": "python",
   "name": "conda-base-py"
  },
  "language_info": {
   "codemirror_mode": {
    "name": "ipython",
    "version": 3
   },
   "file_extension": ".py",
   "mimetype": "text/x-python",
   "name": "python",
   "nbconvert_exporter": "python",
   "pygments_lexer": "ipython3",
   "version": "3.13.5"
  }
 },
 "nbformat": 4,
 "nbformat_minor": 5
}
