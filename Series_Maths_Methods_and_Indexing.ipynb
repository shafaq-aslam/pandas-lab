{
 "cells": [
  {
   "cell_type": "markdown",
   "id": "2580123d-62e4-498f-b704-e8e020c75c51",
   "metadata": {},
   "source": [
    "# Series Maths Methods and Indexing"
   ]
  },
  {
   "cell_type": "code",
   "execution_count": null,
   "id": "39561052-8eb7-4faf-9184-550145e28029",
   "metadata": {},
   "outputs": [],
   "source": []
  }
 ],
 "metadata": {
  "kernelspec": {
   "display_name": "Python [conda env:base] *",
   "language": "python",
   "name": "conda-base-py"
  },
  "language_info": {
   "codemirror_mode": {
    "name": "ipython",
    "version": 3
   },
   "file_extension": ".py",
   "mimetype": "text/x-python",
   "name": "python",
   "nbconvert_exporter": "python",
   "pygments_lexer": "ipython3",
   "version": "3.13.5"
  }
 },
 "nbformat": 4,
 "nbformat_minor": 5
}
