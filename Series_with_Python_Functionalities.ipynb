{
 "cells": [
  {
   "cell_type": "markdown",
   "id": "8f76ec54-844b-45a6-ac0c-12cd2cfaaa6b",
   "metadata": {},
   "source": [
    "# Series With Python Functionalities"
   ]
  },
  {
   "cell_type": "code",
   "execution_count": 1,
   "id": "8a109ca6-d755-4e1c-81ed-a556b7e27c49",
   "metadata": {},
   "outputs": [],
   "source": [
    "import numpy as np\n",
    "import pandas as pd"
   ]
  },
  {
   "cell_type": "code",
   "execution_count": 2,
   "id": "260cb8b4-fdd6-47ca-81dd-2dd84f483d70",
   "metadata": {},
   "outputs": [
    {
     "data": {
      "text/plain": [
       "0       48\n",
       "1       57\n",
       "2       40\n",
       "3       43\n",
       "4       44\n",
       "      ... \n",
       "360    231\n",
       "361    226\n",
       "362    155\n",
       "363    144\n",
       "364    172\n",
       "Name: Subscribers gained, Length: 365, dtype: int64"
      ]
     },
     "execution_count": 2,
     "metadata": {},
     "output_type": "execute_result"
    }
   ],
   "source": [
    "subs = pd.read_csv(r'C:\\Users\\HP\\Pandas\\subscribers.csv').squeeze(True)\n",
    "subs"
   ]
  },
  {
   "cell_type": "code",
   "execution_count": 9,
   "id": "64d5721a-9a8e-4ec6-9845-56751a4a1e5d",
   "metadata": {},
   "outputs": [
    {
     "name": "stdout",
     "output_type": "stream",
     "text": [
      "33\n"
     ]
    }
   ],
   "source": [
    "# len()\n",
    "# print(len(subs)) # ---> 365\n",
    "\n",
    "# type()\n",
    "print(type(subs)) # ---> pandas.core.series.Series\n",
    "\n",
    "# dir()\n",
    "print(dir(subs)) # ---> will return you all the attributes and methods in Series class.\n",
    "\n",
    "# sorted()\n",
    "print(sorted(subs)) # ---> return output in list (sorted)\n",
    "\n",
    "# max()\n",
    "print(max(subs)) # ---> 396\n",
    "\n",
    "# min()\n",
    "print(min(subs)) # ---> 33"
   ]
  },
  {
   "cell_type": "code",
   "execution_count": null,
   "id": "51dbf012-5218-46ff-9471-90b654e0ac8b",
   "metadata": {},
   "outputs": [],
   "source": [
    "# type conversion\n"
   ]
  }
 ],
 "metadata": {
  "kernelspec": {
   "display_name": "Python [conda env:base] *",
   "language": "python",
   "name": "conda-base-py"
  },
  "language_info": {
   "codemirror_mode": {
    "name": "ipython",
    "version": 3
   },
   "file_extension": ".py",
   "mimetype": "text/x-python",
   "name": "python",
   "nbconvert_exporter": "python",
   "pygments_lexer": "ipython3",
   "version": "3.13.5"
  }
 },
 "nbformat": 4,
 "nbformat_minor": 5
}
