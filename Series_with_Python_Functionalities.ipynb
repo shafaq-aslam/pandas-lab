{
 "cells": [
  {
   "cell_type": "markdown",
   "id": "8f76ec54-844b-45a6-ac0c-12cd2cfaaa6b",
   "metadata": {},
   "source": [
    "# Series With Python Functionalities"
   ]
  },
  {
   "cell_type": "code",
   "execution_count": 1,
   "id": "8a109ca6-d755-4e1c-81ed-a556b7e27c49",
   "metadata": {},
   "outputs": [],
   "source": [
    "import numpy as np\n",
    "import pandas as pd"
   ]
  },
  {
   "cell_type": "code",
   "execution_count": 2,
   "id": "260cb8b4-fdd6-47ca-81dd-2dd84f483d70",
   "metadata": {},
   "outputs": [
    {
     "data": {
      "text/plain": [
       "0       48\n",
       "1       57\n",
       "2       40\n",
       "3       43\n",
       "4       44\n",
       "      ... \n",
       "360    231\n",
       "361    226\n",
       "362    155\n",
       "363    144\n",
       "364    172\n",
       "Name: Subscribers gained, Length: 365, dtype: int64"
      ]
     },
     "execution_count": 2,
     "metadata": {},
     "output_type": "execute_result"
    }
   ],
   "source": [
    "# len\n",
    "subs = pd.read_csv(r'C:\\Users\\HP\\Pandas\\subscribers.csv').squeeze(True)\n",
    "subs"
   ]
  },
  {
   "cell_type": "code",
   "execution_count": null,
   "id": "64d5721a-9a8e-4ec6-9845-56751a4a1e5d",
   "metadata": {},
   "outputs": [],
   "source": []
  }
 ],
 "metadata": {
  "kernelspec": {
   "display_name": "Python [conda env:base] *",
   "language": "python",
   "name": "conda-base-py"
  },
  "language_info": {
   "codemirror_mode": {
    "name": "ipython",
    "version": 3
   },
   "file_extension": ".py",
   "mimetype": "text/x-python",
   "name": "python",
   "nbconvert_exporter": "python",
   "pygments_lexer": "ipython3",
   "version": "3.13.5"
  }
 },
 "nbformat": 4,
 "nbformat_minor": 5
}
